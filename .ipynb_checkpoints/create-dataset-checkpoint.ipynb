{
 "cells": [
  {
   "cell_type": "code",
   "execution_count": 1,
   "metadata": {},
   "outputs": [],
   "source": [
    "import pandas as pd\n",
    "import numpy as np\n",
    "import datetime"
   ]
  },
  {
   "cell_type": "markdown",
   "metadata": {},
   "source": [
    "# Load \n",
    "## Covid-19 data"
   ]
  },
  {
   "cell_type": "code",
   "execution_count": 3,
   "metadata": {},
   "outputs": [],
   "source": [
    "OxCGRT = pd.read_csv(\"https://raw.githubusercontent.com/OxCGRT/covid-policy-tracker/master/data/OxCGRT_latest.csv\")\n",
    "OxCGRT.loc[:,'Date'] = pd.to_datetime(OxCGRT.Date, format='%Y%m%d')"
   ]
  },
  {
   "cell_type": "code",
   "execution_count": 28,
   "metadata": {},
   "outputs": [],
   "source": [
    "columns_of_interest = ['CountryName', 'CountryCode','Date', 'ConfirmedCases', 'ConfirmedDeaths',\n",
    "                       'C1_School closing','C2_Workplace closing','C3_Cancel public events',\n",
    "                       'C4_Restrictions on gatherings', 'C5_Close public transport','C6_Stay at home requirements',\n",
    "                       'C7_Restrictions on internal movement','C8_International travel controls',\n",
    "                       'E1_Income support','E2_Debt/contract relief', 'E3_Fiscal measures','E4_International support', \n",
    "                       'H1_Public information campaigns','H2_Testing policy', 'H3_Contact tracing','H4_Emergency investment in healthcare', \n",
    "                       'H5_Investment in vaccines','H6_Facial Coverings', 'H7_Vaccination policy', 'H8_Protection of elderly people', \n",
    "                       'M1_Wildcard',\n",
    "                       'StringencyIndex','StringencyIndexForDisplay','StringencyLegacyIndex','StringencyLegacyIndexForDisplay', \n",
    "                       'GovernmentResponseIndex','GovernmentResponseIndexForDisplay', \n",
    "                       'ContainmentHealthIndex','ContainmentHealthIndexForDisplay', \n",
    "                       'EconomicSupportIndex','EconomicSupportIndexForDisplay']\n",
    "excluded_countries = ['United Kingdom','Canada','Brazil','United States', # because have observations by regions\n",
    "                      'Kosovo', 'Taiwan'] \n",
    "\n",
    "data = OxCGRT[~OxCGRT.CountryName.isin(excluded_countries)][columns_of_interest]"
   ]
  },
  {
   "cell_type": "code",
   "execution_count": 11,
   "metadata": {},
   "outputs": [
    {
     "data": {
      "text/html": [
       "<div>\n",
       "<style scoped>\n",
       "    .dataframe tbody tr th:only-of-type {\n",
       "        vertical-align: middle;\n",
       "    }\n",
       "\n",
       "    .dataframe tbody tr th {\n",
       "        vertical-align: top;\n",
       "    }\n",
       "\n",
       "    .dataframe thead th {\n",
       "        text-align: right;\n",
       "    }\n",
       "</style>\n",
       "<table border=\"1\" class=\"dataframe\">\n",
       "  <thead>\n",
       "    <tr style=\"text-align: right;\">\n",
       "      <th></th>\n",
       "      <th>CountryName</th>\n",
       "      <th>CountryCode</th>\n",
       "      <th>Date</th>\n",
       "      <th>ConfirmedCases</th>\n",
       "      <th>ConfirmedDeaths</th>\n",
       "      <th>C1_School closing</th>\n",
       "      <th>C2_Workplace closing</th>\n",
       "      <th>C3_Cancel public events</th>\n",
       "      <th>C4_Restrictions on gatherings</th>\n",
       "      <th>C5_Close public transport</th>\n",
       "      <th>...</th>\n",
       "      <th>StringencyIndex</th>\n",
       "      <th>StringencyIndexForDisplay</th>\n",
       "      <th>StringencyLegacyIndex</th>\n",
       "      <th>StringencyLegacyIndexForDisplay</th>\n",
       "      <th>GovernmentResponseIndex</th>\n",
       "      <th>GovernmentResponseIndexForDisplay</th>\n",
       "      <th>ContainmentHealthIndex</th>\n",
       "      <th>ContainmentHealthIndexForDisplay</th>\n",
       "      <th>EconomicSupportIndex</th>\n",
       "      <th>EconomicSupportIndexForDisplay</th>\n",
       "    </tr>\n",
       "  </thead>\n",
       "  <tbody>\n",
       "    <tr>\n",
       "      <th>0</th>\n",
       "      <td>Aruba</td>\n",
       "      <td>ABW</td>\n",
       "      <td>2020-01-01</td>\n",
       "      <td>NaN</td>\n",
       "      <td>NaN</td>\n",
       "      <td>0.0</td>\n",
       "      <td>0.0</td>\n",
       "      <td>0.0</td>\n",
       "      <td>0.0</td>\n",
       "      <td>0.0</td>\n",
       "      <td>...</td>\n",
       "      <td>0.0</td>\n",
       "      <td>0.0</td>\n",
       "      <td>0.0</td>\n",
       "      <td>0.0</td>\n",
       "      <td>0.0</td>\n",
       "      <td>0.0</td>\n",
       "      <td>0.0</td>\n",
       "      <td>0.0</td>\n",
       "      <td>0.0</td>\n",
       "      <td>0.0</td>\n",
       "    </tr>\n",
       "    <tr>\n",
       "      <th>1</th>\n",
       "      <td>Aruba</td>\n",
       "      <td>ABW</td>\n",
       "      <td>2020-01-02</td>\n",
       "      <td>NaN</td>\n",
       "      <td>NaN</td>\n",
       "      <td>0.0</td>\n",
       "      <td>0.0</td>\n",
       "      <td>0.0</td>\n",
       "      <td>0.0</td>\n",
       "      <td>0.0</td>\n",
       "      <td>...</td>\n",
       "      <td>0.0</td>\n",
       "      <td>0.0</td>\n",
       "      <td>0.0</td>\n",
       "      <td>0.0</td>\n",
       "      <td>0.0</td>\n",
       "      <td>0.0</td>\n",
       "      <td>0.0</td>\n",
       "      <td>0.0</td>\n",
       "      <td>0.0</td>\n",
       "      <td>0.0</td>\n",
       "    </tr>\n",
       "    <tr>\n",
       "      <th>2</th>\n",
       "      <td>Aruba</td>\n",
       "      <td>ABW</td>\n",
       "      <td>2020-01-03</td>\n",
       "      <td>NaN</td>\n",
       "      <td>NaN</td>\n",
       "      <td>0.0</td>\n",
       "      <td>0.0</td>\n",
       "      <td>0.0</td>\n",
       "      <td>0.0</td>\n",
       "      <td>0.0</td>\n",
       "      <td>...</td>\n",
       "      <td>0.0</td>\n",
       "      <td>0.0</td>\n",
       "      <td>0.0</td>\n",
       "      <td>0.0</td>\n",
       "      <td>0.0</td>\n",
       "      <td>0.0</td>\n",
       "      <td>0.0</td>\n",
       "      <td>0.0</td>\n",
       "      <td>0.0</td>\n",
       "      <td>0.0</td>\n",
       "    </tr>\n",
       "  </tbody>\n",
       "</table>\n",
       "<p>3 rows × 36 columns</p>\n",
       "</div>"
      ],
      "text/plain": [
       "  CountryName CountryCode       Date  ConfirmedCases  ConfirmedDeaths  \\\n",
       "0       Aruba         ABW 2020-01-01             NaN              NaN   \n",
       "1       Aruba         ABW 2020-01-02             NaN              NaN   \n",
       "2       Aruba         ABW 2020-01-03             NaN              NaN   \n",
       "\n",
       "   C1_School closing  C2_Workplace closing  C3_Cancel public events  \\\n",
       "0                0.0                   0.0                      0.0   \n",
       "1                0.0                   0.0                      0.0   \n",
       "2                0.0                   0.0                      0.0   \n",
       "\n",
       "   C4_Restrictions on gatherings  C5_Close public transport  ...  \\\n",
       "0                            0.0                        0.0  ...   \n",
       "1                            0.0                        0.0  ...   \n",
       "2                            0.0                        0.0  ...   \n",
       "\n",
       "   StringencyIndex  StringencyIndexForDisplay  StringencyLegacyIndex  \\\n",
       "0              0.0                        0.0                    0.0   \n",
       "1              0.0                        0.0                    0.0   \n",
       "2              0.0                        0.0                    0.0   \n",
       "\n",
       "   StringencyLegacyIndexForDisplay  GovernmentResponseIndex  \\\n",
       "0                              0.0                      0.0   \n",
       "1                              0.0                      0.0   \n",
       "2                              0.0                      0.0   \n",
       "\n",
       "   GovernmentResponseIndexForDisplay  ContainmentHealthIndex  \\\n",
       "0                                0.0                     0.0   \n",
       "1                                0.0                     0.0   \n",
       "2                                0.0                     0.0   \n",
       "\n",
       "   ContainmentHealthIndexForDisplay  EconomicSupportIndex  \\\n",
       "0                               0.0                   0.0   \n",
       "1                               0.0                   0.0   \n",
       "2                               0.0                   0.0   \n",
       "\n",
       "   EconomicSupportIndexForDisplay  \n",
       "0                             0.0  \n",
       "1                             0.0  \n",
       "2                             0.0  \n",
       "\n",
       "[3 rows x 36 columns]"
      ]
     },
     "execution_count": 11,
     "metadata": {},
     "output_type": "execute_result"
    }
   ],
   "source": [
    "data.head(3)"
   ]
  },
  {
   "cell_type": "markdown",
   "metadata": {},
   "source": [
    "## Population data"
   ]
  },
  {
   "cell_type": "code",
   "execution_count": 8,
   "metadata": {},
   "outputs": [],
   "source": [
    "# Source: https://data.worldbank.org/indicator/SP.POP.TOTL\n",
    "population = pd.read_csv(\"data/population.csv\",skiprows=4)\n",
    "population = population[[\"Country Code\",\"2019\"]]\n",
    "# Get country names from 'data' table to ensure identical naming\n",
    "population = pd.merge(population, data[['CountryCode','CountryName']].drop_duplicates(),\n",
    "                      left_on='Country Code', right_on='CountryCode')\n",
    "population = population[[\"CountryName\",\"2019\"]].set_index(\"CountryName\")\n",
    "population.index.name = None"
   ]
  },
  {
   "cell_type": "code",
   "execution_count": 9,
   "metadata": {},
   "outputs": [
    {
     "data": {
      "text/html": [
       "<div>\n",
       "<style scoped>\n",
       "    .dataframe tbody tr th:only-of-type {\n",
       "        vertical-align: middle;\n",
       "    }\n",
       "\n",
       "    .dataframe tbody tr th {\n",
       "        vertical-align: top;\n",
       "    }\n",
       "\n",
       "    .dataframe thead th {\n",
       "        text-align: right;\n",
       "    }\n",
       "</style>\n",
       "<table border=\"1\" class=\"dataframe\">\n",
       "  <thead>\n",
       "    <tr style=\"text-align: right;\">\n",
       "      <th></th>\n",
       "      <th>2019</th>\n",
       "    </tr>\n",
       "  </thead>\n",
       "  <tbody>\n",
       "    <tr>\n",
       "      <th>Aruba</th>\n",
       "      <td>106314.0</td>\n",
       "    </tr>\n",
       "    <tr>\n",
       "      <th>Afghanistan</th>\n",
       "      <td>38041754.0</td>\n",
       "    </tr>\n",
       "    <tr>\n",
       "      <th>Angola</th>\n",
       "      <td>31825295.0</td>\n",
       "    </tr>\n",
       "    <tr>\n",
       "      <th>Albania</th>\n",
       "      <td>2854191.0</td>\n",
       "    </tr>\n",
       "    <tr>\n",
       "      <th>Andorra</th>\n",
       "      <td>77142.0</td>\n",
       "    </tr>\n",
       "  </tbody>\n",
       "</table>\n",
       "</div>"
      ],
      "text/plain": [
       "                   2019\n",
       "Aruba          106314.0\n",
       "Afghanistan  38041754.0\n",
       "Angola       31825295.0\n",
       "Albania       2854191.0\n",
       "Andorra         77142.0"
      ]
     },
     "execution_count": 9,
     "metadata": {},
     "output_type": "execute_result"
    }
   ],
   "source": [
    "population.head()"
   ]
  },
  {
   "cell_type": "markdown",
   "metadata": {},
   "source": [
    "## Tests and vacinations data"
   ]
  },
  {
   "cell_type": "code",
   "execution_count": null,
   "metadata": {},
   "outputs": [],
   "source": [
    "tests = pd.read_csv(\"https://raw.githubusercontent.com/owid/covid-19-data/master/public/data/testing/covid-testing-all-observations.csv\")"
   ]
  },
  {
   "cell_type": "code",
   "execution_count": null,
   "metadata": {},
   "outputs": [],
   "source": [
    "vaccine = pd.read_csv(\"https://raw.githubusercontent.com/owid/covid-19-data/master/public/data/vaccinations/vaccinations.csv\")"
   ]
  },
  {
   "cell_type": "markdown",
   "metadata": {},
   "source": [
    "# Calculate\n",
    "## Daily cases"
   ]
  },
  {
   "cell_type": "code",
   "execution_count": 29,
   "metadata": {},
   "outputs": [],
   "source": [
    "for country in data.CountryName.unique():\n",
    "    data.loc[(data.CountryName==country),\"DailyCases\"] = data[(data.CountryName==country)][\"ConfirmedCases\"].diff()"
   ]
  },
  {
   "cell_type": "markdown",
   "metadata": {},
   "source": [
    "## 7-day-average"
   ]
  },
  {
   "cell_type": "code",
   "execution_count": 31,
   "metadata": {},
   "outputs": [],
   "source": [
    "for country in data.CountryName.unique():\n",
    "    data.loc[(data.CountryName==country),\"Average7\"] = data[(data.CountryName==country)][\"ConfirmedCases\"].diff().rolling(7).mean()"
   ]
  },
  {
   "cell_type": "markdown",
   "metadata": {},
   "source": [
    "## 14-day-average"
   ]
  },
  {
   "cell_type": "code",
   "execution_count": 32,
   "metadata": {},
   "outputs": [],
   "source": [
    "for country in data.CountryName.unique():\n",
    "    data.loc[(data.CountryName==country),\"Average14\"] = data[(data.CountryName==country)][\"ConfirmedCases\"].diff().rolling(14).mean()"
   ]
  },
  {
   "cell_type": "markdown",
   "metadata": {},
   "source": [
    "## Daily cases per 100K population"
   ]
  },
  {
   "cell_type": "code",
   "execution_count": 30,
   "metadata": {},
   "outputs": [],
   "source": [
    "for country in data.CountryName.unique():\n",
    "    data.loc[(data.CountryName==country),\"DailyCases_100K\"] = data[(data.CountryName==country)][\"DailyCases\"] / population.loc[country].values * 100000"
   ]
  },
  {
   "cell_type": "markdown",
   "metadata": {},
   "source": [
    "## 7-day-average per 100K population"
   ]
  },
  {
   "cell_type": "code",
   "execution_count": 33,
   "metadata": {},
   "outputs": [],
   "source": [
    "for country in data.CountryName.unique():\n",
    "    data.loc[(data.CountryName==country),\"Average7_100K\"] = data[(data.CountryName==country)][\"Average7\"] / population.loc[country].values * 100000"
   ]
  },
  {
   "cell_type": "markdown",
   "metadata": {},
   "source": [
    "## 14-day-average per 100K population"
   ]
  },
  {
   "cell_type": "code",
   "execution_count": 34,
   "metadata": {},
   "outputs": [],
   "source": [
    "for country in data.CountryName.unique():\n",
    "    data.loc[(data.CountryName==country),\"Average14_100K\"] = data[(data.CountryName==country)][\"Average14\"] / population.loc[country].values * 100000"
   ]
  },
  {
   "cell_type": "markdown",
   "metadata": {},
   "source": [
    "# Save to the file"
   ]
  },
  {
   "cell_type": "code",
   "execution_count": 35,
   "metadata": {},
   "outputs": [],
   "source": [
    "data.to_csv(\"data/OxCGRT_latest.csv\")"
   ]
  }
 ],
 "metadata": {
  "kernelspec": {
   "display_name": "Python 3",
   "language": "python",
   "name": "python3"
  },
  "language_info": {
   "codemirror_mode": {
    "name": "ipython",
    "version": 3
   },
   "file_extension": ".py",
   "mimetype": "text/x-python",
   "name": "python",
   "nbconvert_exporter": "python",
   "pygments_lexer": "ipython3",
   "version": "3.8.5"
  }
 },
 "nbformat": 4,
 "nbformat_minor": 4
}
